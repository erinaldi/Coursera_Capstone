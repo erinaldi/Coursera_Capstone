{
 "cells": [
  {
   "cell_type": "markdown",
   "metadata": {
    "heading_collapsed": true
   },
   "source": [
    "# Segmenting and Clustering Neighborhoods in Toronto"
   ]
  },
  {
   "cell_type": "markdown",
   "metadata": {},
   "source": [
    "# [Part 1] Web scraping postal codes of neighborhoods in Toronto"
   ]
  },
  {
   "cell_type": "markdown",
   "metadata": {},
   "source": [
    "Use `beautifulsoup4` to scrape this Wikipedia [page](https://en.wikipedia.org/wiki/List_of_postal_codes_of_Canada:_M) containing the postal codes of neighborhood of Toronto. \n",
    "\n",
    "The postal codes will be used for geocoding.\n",
    "\n",
    "From the [documentation](https://beautiful-soup-4.readthedocs.io/en/latest/#making-the-soup) we see that we need to create the html file to pass to `beautifulsoup4`. That can be achieved with the module `requests` handling the GET call to the Wikipedia page and transforming the result into text (we could also save it on file if needed)"
   ]
  },
  {
   "cell_type": "code",
   "execution_count": 1,
   "metadata": {},
   "outputs": [],
   "source": [
    "from bs4 import BeautifulSoup\n",
    "import requests\n",
    "\n",
    "url_postal_codes = 'https://en.wikipedia.org/wiki/List_of_postal_codes_of_Canada:_M'\n",
    "source_page = requests.get(url_postal_codes).text\n",
    "\n",
    "soup = BeautifulSoup(source_page, 'lxml')"
   ]
  },
  {
   "cell_type": "code",
   "execution_count": null,
   "metadata": {},
   "outputs": [],
   "source": [
    "# explore the soup\n",
    "# print(soup.prettify())"
   ]
  },
  {
   "cell_type": "markdown",
   "metadata": {},
   "source": [
    "### Extracting the table with postal codes"
   ]
  },
  {
   "cell_type": "markdown",
   "metadata": {},
   "source": [
    "By inspecting the website (from the browser or from the soup object above) we see that the relevant information is in a `<table>` object with class `wikitable sortable`.\n",
    "\n",
    "We can use the `find_all` method ([docs](https://beautiful-soup-4.readthedocs.io/en/latest/#searching-the-tree)) to look for the table and extract its parts."
   ]
  },
  {
   "cell_type": "code",
   "execution_count": 2,
   "metadata": {},
   "outputs": [],
   "source": [
    "table = soup.find('table', class_='wikitable sortable')\n",
    "#print(table)"
   ]
  },
  {
   "cell_type": "code",
   "execution_count": 3,
   "metadata": {},
   "outputs": [],
   "source": [
    "rows = table.find_all('tr')\n",
    "#print(rows)"
   ]
  },
  {
   "cell_type": "markdown",
   "metadata": {
    "heading_collapsed": true
   },
   "source": [
    "#### Tests (supplementary)"
   ]
  },
  {
   "cell_type": "markdown",
   "metadata": {
    "hidden": true
   },
   "source": [
    "This is how a row of the table looks like:"
   ]
  },
  {
   "cell_type": "code",
   "execution_count": null,
   "metadata": {
    "hidden": true
   },
   "outputs": [],
   "source": [
    "test = rows[7]\n",
    "#print(test.text)"
   ]
  },
  {
   "cell_type": "markdown",
   "metadata": {
    "hidden": true
   },
   "source": [
    "And this is how to split a row into its elements and keeping only the ones with text. This is assuming that the first and last line in the row are empty."
   ]
  },
  {
   "cell_type": "code",
   "execution_count": null,
   "metadata": {
    "hidden": true
   },
   "outputs": [],
   "source": [
    "test.text.split('\\n')[1:4]"
   ]
  },
  {
   "cell_type": "code",
   "execution_count": null,
   "metadata": {
    "hidden": true
   },
   "outputs": [],
   "source": [
    "test.find_all('td')"
   ]
  },
  {
   "cell_type": "markdown",
   "metadata": {},
   "source": [
    "#### Get the data from each row in the table"
   ]
  },
  {
   "cell_type": "markdown",
   "metadata": {},
   "source": [
    "Iterate through all the rows in the table to extract the `Postal Code`, `Borough` and `Neighborhood`, assuming their positions in the text results."
   ]
  },
  {
   "cell_type": "code",
   "execution_count": 4,
   "metadata": {
    "scrolled": true
   },
   "outputs": [],
   "source": [
    "header = rows[0].text\n",
    "table = []\n",
    "for r in rows[1:]:\n",
    "    try:\n",
    "        line = r.text.split('\\n')[1:4]\n",
    "    except Exception as e:\n",
    "        print('cannot get line {}'.format(r))\n",
    "        line = []\n",
    "    table.append(line)\n",
    "# print(table)"
   ]
  },
  {
   "cell_type": "markdown",
   "metadata": {},
   "source": [
    "### Create a `pandas` dataframe with the postal codes"
   ]
  },
  {
   "cell_type": "code",
   "execution_count": 5,
   "metadata": {},
   "outputs": [
    {
     "name": "stdout",
     "output_type": "stream",
     "text": [
      "0.25.0\n"
     ]
    }
   ],
   "source": [
    "import pandas as pd\n",
    "print(pd.__version__)"
   ]
  },
  {
   "cell_type": "markdown",
   "metadata": {},
   "source": [
    "Use `from_records` to create a DataFrame directly from the table of data, giving names to the columns:"
   ]
  },
  {
   "cell_type": "code",
   "execution_count": 6,
   "metadata": {},
   "outputs": [],
   "source": [
    "# do this if the rows in the table were parsed as a whole\n",
    "# pc = pd.DataFrame.from_records(table,exclude=['0','1'],columns=['0','PostalCode','Borough','Neighborhood','1'])\n",
    "pc = pd.DataFrame.from_records(table,columns=['PostalCode','Borough','Neighborhood'])"
   ]
  },
  {
   "cell_type": "code",
   "execution_count": null,
   "metadata": {
    "scrolled": true
   },
   "outputs": [],
   "source": [
    "pc.head()"
   ]
  },
  {
   "cell_type": "markdown",
   "metadata": {},
   "source": [
    "### Process dataframe to remove unwanted items"
   ]
  },
  {
   "cell_type": "code",
   "execution_count": 7,
   "metadata": {},
   "outputs": [
    {
     "name": "stdout",
     "output_type": "stream",
     "text": [
      "1.17.0\n"
     ]
    }
   ],
   "source": [
    "import numpy as np\n",
    "print(np.__version__)"
   ]
  },
  {
   "cell_type": "markdown",
   "metadata": {},
   "source": [
    "Keep only the rows where `Borough` is different from `Not assigned`."
   ]
  },
  {
   "cell_type": "code",
   "execution_count": 8,
   "metadata": {},
   "outputs": [],
   "source": [
    "pc_clean = pc[pc.Borough != 'Not assigned']"
   ]
  },
  {
   "cell_type": "code",
   "execution_count": null,
   "metadata": {},
   "outputs": [],
   "source": [
    "pc_clean.head()"
   ]
  },
  {
   "cell_type": "markdown",
   "metadata": {},
   "source": [
    "If a `Neighborhood` does not have a name, assign the name of the corresponding `Borough`:"
   ]
  },
  {
   "cell_type": "code",
   "execution_count": 9,
   "metadata": {},
   "outputs": [
    {
     "data": {
      "text/html": [
       "<div>\n",
       "<style scoped>\n",
       "    .dataframe tbody tr th:only-of-type {\n",
       "        vertical-align: middle;\n",
       "    }\n",
       "\n",
       "    .dataframe tbody tr th {\n",
       "        vertical-align: top;\n",
       "    }\n",
       "\n",
       "    .dataframe thead th {\n",
       "        text-align: right;\n",
       "    }\n",
       "</style>\n",
       "<table border=\"1\" class=\"dataframe\">\n",
       "  <thead>\n",
       "    <tr style=\"text-align: right;\">\n",
       "      <th></th>\n",
       "      <th>PostalCode</th>\n",
       "      <th>Borough</th>\n",
       "      <th>Neighborhood</th>\n",
       "    </tr>\n",
       "  </thead>\n",
       "  <tbody>\n",
       "    <tr>\n",
       "      <th>8</th>\n",
       "      <td>M7A</td>\n",
       "      <td>Queen's Park</td>\n",
       "      <td>Not assigned</td>\n",
       "    </tr>\n",
       "  </tbody>\n",
       "</table>\n",
       "</div>"
      ],
      "text/plain": [
       "  PostalCode       Borough  Neighborhood\n",
       "8        M7A  Queen's Park  Not assigned"
      ]
     },
     "execution_count": 9,
     "metadata": {},
     "output_type": "execute_result"
    }
   ],
   "source": [
    "pc_clean.query('Neighborhood == \"Not assigned\"')"
   ]
  },
  {
   "cell_type": "code",
   "execution_count": 10,
   "metadata": {},
   "outputs": [],
   "source": [
    "pc_clean.at[8,'Neighborhood']=pc_clean.at[8,'Borough']"
   ]
  },
  {
   "cell_type": "code",
   "execution_count": 11,
   "metadata": {},
   "outputs": [
    {
     "data": {
      "text/plain": [
       "PostalCode               M7A\n",
       "Borough         Queen's Park\n",
       "Neighborhood    Queen's Park\n",
       "Name: 8, dtype: object"
      ]
     },
     "execution_count": 11,
     "metadata": {},
     "output_type": "execute_result"
    }
   ],
   "source": [
    "pc_clean.loc[8]"
   ]
  },
  {
   "cell_type": "markdown",
   "metadata": {},
   "source": [
    "If there where multiple instances to change, we could have used `Dataframe.where` to replace the values."
   ]
  },
  {
   "cell_type": "code",
   "execution_count": null,
   "metadata": {},
   "outputs": [],
   "source": [
    "# https://pandas.pydata.org/pandas-docs/stable/reference/api/pandas.DataFrame.where.html#pandas.DataFrame.where\n",
    "#test = pc[pc.Borough != 'Not assigned']\n",
    "#test.where(test.Neighborhood=='Not assigned',test.Borough, axis=1)"
   ]
  },
  {
   "cell_type": "markdown",
   "metadata": {},
   "source": [
    "### Merge neighborhoods with the same postal code"
   ]
  },
  {
   "cell_type": "markdown",
   "metadata": {},
   "source": [
    "Group by `PostalCode` and merge the neighborhoods"
   ]
  },
  {
   "cell_type": "code",
   "execution_count": 12,
   "metadata": {},
   "outputs": [],
   "source": [
    "pc_grouped = pc_clean.groupby('PostalCode')"
   ]
  },
  {
   "cell_type": "markdown",
   "metadata": {},
   "source": [
    "You can iterate through all the postal codes and look at the different neighborhoods"
   ]
  },
  {
   "cell_type": "code",
   "execution_count": null,
   "metadata": {},
   "outputs": [],
   "source": [
    "# for name, group in pc_grouped:\n",
    "#     group"
   ]
  },
  {
   "cell_type": "markdown",
   "metadata": {},
   "source": [
    "#### Create final dataframe"
   ]
  },
  {
   "cell_type": "code",
   "execution_count": 13,
   "metadata": {},
   "outputs": [],
   "source": [
    "column_names = ['PostalCode','Borough','Neighborhood']\n",
    "df = pd.DataFrame(columns=column_names)\n",
    "\n",
    "for name, group in pc_grouped:\n",
    "    p = list(dict.fromkeys(group.PostalCode))[0]\n",
    "    b = list(dict.fromkeys(group.Borough))[0]\n",
    "    n = list(dict.fromkeys(group.Neighborhood))\n",
    "    df = df.append({'PostalCode': p, 'Borough': b, 'Neighborhood': ', '.join(n)}, ignore_index=True)\n",
    "\n",
    "# df"
   ]
  },
  {
   "cell_type": "markdown",
   "metadata": {},
   "source": [
    "Final shape:"
   ]
  },
  {
   "cell_type": "code",
   "execution_count": 14,
   "metadata": {},
   "outputs": [
    {
     "data": {
      "text/plain": [
       "(103, 3)"
      ]
     },
     "execution_count": 14,
     "metadata": {},
     "output_type": "execute_result"
    }
   ],
   "source": [
    "df.shape"
   ]
  },
  {
   "cell_type": "markdown",
   "metadata": {},
   "source": [
    "# [Part 2] Get geospatial coordinates of the neighborhoods"
   ]
  },
  {
   "cell_type": "code",
   "execution_count": null,
   "metadata": {},
   "outputs": [],
   "source": [
    "# import geocoder"
   ]
  },
  {
   "cell_type": "code",
   "execution_count": null,
   "metadata": {},
   "outputs": [],
   "source": [
    "# # initialize your variable to None\n",
    "# lat_lng_coords = None\n",
    "# postal_code = 'M9W'\n",
    "\n",
    "# # loop until you get the coordinates\n",
    "# while(lat_lng_coords is None):\n",
    "#     g = geocoder.google('{}, Toronto, Ontario'.format(postal_code))\n",
    "#     lat_lng_coords = g.latlng\n",
    "\n",
    "# latitude = lat_lng_coords[0]\n",
    "# longitude = lat_lng_coords[1]\n",
    "# print(latitude,longitude)"
   ]
  },
  {
   "cell_type": "code",
   "execution_count": null,
   "metadata": {},
   "outputs": [],
   "source": [
    "# g = geocoder.canadapost('{}, Toronto, Ontario'.format(postal_code))\n",
    "# g"
   ]
  },
  {
   "cell_type": "code",
   "execution_count": null,
   "metadata": {},
   "outputs": [],
   "source": [
    "# g = geocoder.google('M9N, Toronto, Ontario')\n",
    "# g"
   ]
  },
  {
   "cell_type": "markdown",
   "metadata": {},
   "source": [
    "Since the `geocoder.google` does not seem to work (giving `REQUEST DENIED`) and the `geocoder.canadapost` does not have info on latitude or longitude, we use the provided `Geospatial_Coordinates.csv` file"
   ]
  },
  {
   "cell_type": "code",
   "execution_count": 15,
   "metadata": {},
   "outputs": [
    {
     "data": {
      "text/html": [
       "<div>\n",
       "<style scoped>\n",
       "    .dataframe tbody tr th:only-of-type {\n",
       "        vertical-align: middle;\n",
       "    }\n",
       "\n",
       "    .dataframe tbody tr th {\n",
       "        vertical-align: top;\n",
       "    }\n",
       "\n",
       "    .dataframe thead th {\n",
       "        text-align: right;\n",
       "    }\n",
       "</style>\n",
       "<table border=\"1\" class=\"dataframe\">\n",
       "  <thead>\n",
       "    <tr style=\"text-align: right;\">\n",
       "      <th></th>\n",
       "      <th>Postal Code</th>\n",
       "      <th>Latitude</th>\n",
       "      <th>Longitude</th>\n",
       "    </tr>\n",
       "  </thead>\n",
       "  <tbody>\n",
       "    <tr>\n",
       "      <th>0</th>\n",
       "      <td>M1B</td>\n",
       "      <td>43.806686</td>\n",
       "      <td>-79.194353</td>\n",
       "    </tr>\n",
       "    <tr>\n",
       "      <th>1</th>\n",
       "      <td>M1C</td>\n",
       "      <td>43.784535</td>\n",
       "      <td>-79.160497</td>\n",
       "    </tr>\n",
       "    <tr>\n",
       "      <th>2</th>\n",
       "      <td>M1E</td>\n",
       "      <td>43.763573</td>\n",
       "      <td>-79.188711</td>\n",
       "    </tr>\n",
       "    <tr>\n",
       "      <th>3</th>\n",
       "      <td>M1G</td>\n",
       "      <td>43.770992</td>\n",
       "      <td>-79.216917</td>\n",
       "    </tr>\n",
       "    <tr>\n",
       "      <th>4</th>\n",
       "      <td>M1H</td>\n",
       "      <td>43.773136</td>\n",
       "      <td>-79.239476</td>\n",
       "    </tr>\n",
       "  </tbody>\n",
       "</table>\n",
       "</div>"
      ],
      "text/plain": [
       "  Postal Code   Latitude  Longitude\n",
       "0         M1B  43.806686 -79.194353\n",
       "1         M1C  43.784535 -79.160497\n",
       "2         M1E  43.763573 -79.188711\n",
       "3         M1G  43.770992 -79.216917\n",
       "4         M1H  43.773136 -79.239476"
      ]
     },
     "execution_count": 15,
     "metadata": {},
     "output_type": "execute_result"
    }
   ],
   "source": [
    "gc = pd.read_csv('Geospatial_Coordinates.csv')\n",
    "gc.head()"
   ]
  },
  {
   "cell_type": "code",
   "execution_count": 16,
   "metadata": {},
   "outputs": [
    {
     "data": {
      "text/plain": [
       "(103, 3)"
      ]
     },
     "execution_count": 16,
     "metadata": {},
     "output_type": "execute_result"
    }
   ],
   "source": [
    "gc.shape"
   ]
  },
  {
   "cell_type": "markdown",
   "metadata": {},
   "source": [
    "Merge the Neighborhood dataset and the coordinates dataset. Be careful about the different naming convention in the columns."
   ]
  },
  {
   "cell_type": "code",
   "execution_count": 17,
   "metadata": {},
   "outputs": [],
   "source": [
    "toronto_data = pd.merge(df, gc, left_on='PostalCode', right_on='Postal Code')"
   ]
  },
  {
   "cell_type": "code",
   "execution_count": 18,
   "metadata": {},
   "outputs": [],
   "source": [
    "toronto_data.drop(columns='Postal Code',inplace=True)"
   ]
  },
  {
   "cell_type": "code",
   "execution_count": 19,
   "metadata": {},
   "outputs": [
    {
     "data": {
      "text/plain": [
       "(103, 5)"
      ]
     },
     "execution_count": 19,
     "metadata": {},
     "output_type": "execute_result"
    }
   ],
   "source": [
    "toronto_data.shape"
   ]
  },
  {
   "cell_type": "markdown",
   "metadata": {},
   "source": [
    "# [Part 3] Maps and segmentation of the city of Toronto"
   ]
  },
  {
   "cell_type": "markdown",
   "metadata": {},
   "source": [
    "Import libraries for maps and clustering"
   ]
  },
  {
   "cell_type": "code",
   "execution_count": 20,
   "metadata": {},
   "outputs": [],
   "source": [
    "import json # library to handle JSON files\n",
    "from geopy.geocoders import Nominatim # convert an address into latitude and longitude values\n",
    "import requests # library to handle requests\n",
    "from pandas.io.json import json_normalize # tranform JSON file into a pandas dataframe\n",
    "import folium # map rendering library\n",
    "# import k-means from scikit-learn\n",
    "from sklearn.cluster import KMeans"
   ]
  },
  {
   "cell_type": "markdown",
   "metadata": {},
   "source": [
    "## Create a Folium Map for Toronto\n",
    "\n",
    "First get the address of Toronto to center the map:"
   ]
  },
  {
   "cell_type": "code",
   "execution_count": 21,
   "metadata": {},
   "outputs": [
    {
     "name": "stdout",
     "output_type": "stream",
     "text": [
      "The geograpical coordinate of Toronto are 43.653963, -79.387207.\n"
     ]
    }
   ],
   "source": [
    "address = 'Toronto, Ontario'\n",
    "\n",
    "geolocator = Nominatim(user_agent=\"ca_explorer\")\n",
    "location = geolocator.geocode(address)\n",
    "latitude = location.latitude\n",
    "longitude = location.longitude\n",
    "print('The geograpical coordinate of Toronto are {}, {}.'.format(latitude, longitude))"
   ]
  },
  {
   "cell_type": "markdown",
   "metadata": {},
   "source": [
    "Then use the coordinates of each neighborhood saved in `toronto_data` to create a pin on the map corresponding to the location of the center of the neighborhood. First of all, let's restrict the map to different boroughs."
   ]
  },
  {
   "cell_type": "code",
   "execution_count": 22,
   "metadata": {},
   "outputs": [],
   "source": [
    "neighborhoods = toronto_data.groupby('Borough').head(1)"
   ]
  },
  {
   "cell_type": "code",
   "execution_count": 23,
   "metadata": {
    "collapsed": true
   },
   "outputs": [
    {
     "data": {
      "text/plain": [
       "<folium.vector_layers.CircleMarker at 0x1210bb6d8>"
      ]
     },
     "execution_count": 23,
     "metadata": {},
     "output_type": "execute_result"
    },
    {
     "data": {
      "text/plain": [
       "<folium.vector_layers.CircleMarker at 0x1210bb6a0>"
      ]
     },
     "execution_count": 23,
     "metadata": {},
     "output_type": "execute_result"
    },
    {
     "data": {
      "text/plain": [
       "<folium.vector_layers.CircleMarker at 0x11bd4b4e0>"
      ]
     },
     "execution_count": 23,
     "metadata": {},
     "output_type": "execute_result"
    },
    {
     "data": {
      "text/plain": [
       "<folium.vector_layers.CircleMarker at 0x1210bbc18>"
      ]
     },
     "execution_count": 23,
     "metadata": {},
     "output_type": "execute_result"
    },
    {
     "data": {
      "text/plain": [
       "<folium.vector_layers.CircleMarker at 0x1210bbd68>"
      ]
     },
     "execution_count": 23,
     "metadata": {},
     "output_type": "execute_result"
    },
    {
     "data": {
      "text/plain": [
       "<folium.vector_layers.CircleMarker at 0x1210bbeb8>"
      ]
     },
     "execution_count": 23,
     "metadata": {},
     "output_type": "execute_result"
    },
    {
     "data": {
      "text/plain": [
       "<folium.vector_layers.CircleMarker at 0x1210bbe48>"
      ]
     },
     "execution_count": 23,
     "metadata": {},
     "output_type": "execute_result"
    },
    {
     "data": {
      "text/plain": [
       "<folium.vector_layers.CircleMarker at 0x11f018198>"
      ]
     },
     "execution_count": 23,
     "metadata": {},
     "output_type": "execute_result"
    },
    {
     "data": {
      "text/plain": [
       "<folium.vector_layers.CircleMarker at 0x11f018358>"
      ]
     },
     "execution_count": 23,
     "metadata": {},
     "output_type": "execute_result"
    },
    {
     "data": {
      "text/plain": [
       "<folium.vector_layers.CircleMarker at 0x11f0184a8>"
      ]
     },
     "execution_count": 23,
     "metadata": {},
     "output_type": "execute_result"
    },
    {
     "data": {
      "text/plain": [
       "<folium.vector_layers.CircleMarker at 0x11f0185f8>"
      ]
     },
     "execution_count": 23,
     "metadata": {},
     "output_type": "execute_result"
    }
   ],
   "source": [
    "# create map of Toronto using latitude and longitude values\n",
    "map_toronto = folium.Map(width='100%',height='100%',location=[latitude, longitude], zoom_start=10)\n",
    "\n",
    "# add markers to map\n",
    "for lat, lng, postal, borough in zip(neighborhoods['Latitude'], neighborhoods['Longitude'], neighborhoods['PostalCode'], neighborhoods['Borough']):\n",
    "    folium.CircleMarker(\n",
    "        [lat, lng],\n",
    "        radius=5,\n",
    "        popup=folium.Popup('{}, {}'.format(postal, borough), parse_html=True),\n",
    "        color='blue',\n",
    "        fill=True,\n",
    "        fill_color='#3186cc',\n",
    "        fill_opacity=0.7,\n",
    "        parse_html=False).add_to(map_toronto)"
   ]
  },
  {
   "cell_type": "code",
   "execution_count": 24,
   "metadata": {},
   "outputs": [
    {
     "data": {
      "text/html": [
       "<div style=\"width:100%;\"><div style=\"position:relative;width:100%;height:0;padding-bottom:60%;\"><iframe src=\"data:text/html;charset=utf-8;base64,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\" style=\"position:absolute;width:100%;height:100%;left:0;top:0;border:none !important;\" allowfullscreen webkitallowfullscreen mozallowfullscreen></iframe></div></div>"
      ],
      "text/plain": [
       "<folium.folium.Map at 0x120d9af28>"
      ]
     },
     "execution_count": 24,
     "metadata": {},
     "output_type": "execute_result"
    }
   ],
   "source": [
    "map_toronto"
   ]
  },
  {
   "cell_type": "markdown",
   "metadata": {},
   "source": [
    "### Explore Downtown Toronto\n",
    "\n",
    "For illustrative purposes, let's focus on Downtown Toronto"
   ]
  },
  {
   "cell_type": "code",
   "execution_count": 25,
   "metadata": {},
   "outputs": [
    {
     "data": {
      "text/html": [
       "<div>\n",
       "<style scoped>\n",
       "    .dataframe tbody tr th:only-of-type {\n",
       "        vertical-align: middle;\n",
       "    }\n",
       "\n",
       "    .dataframe tbody tr th {\n",
       "        vertical-align: top;\n",
       "    }\n",
       "\n",
       "    .dataframe thead th {\n",
       "        text-align: right;\n",
       "    }\n",
       "</style>\n",
       "<table border=\"1\" class=\"dataframe\">\n",
       "  <thead>\n",
       "    <tr style=\"text-align: right;\">\n",
       "      <th></th>\n",
       "      <th>PostalCode</th>\n",
       "      <th>Borough</th>\n",
       "      <th>Neighborhood</th>\n",
       "      <th>Latitude</th>\n",
       "      <th>Longitude</th>\n",
       "    </tr>\n",
       "  </thead>\n",
       "  <tbody>\n",
       "    <tr>\n",
       "      <th>0</th>\n",
       "      <td>M4W</td>\n",
       "      <td>Downtown Toronto</td>\n",
       "      <td>Rosedale</td>\n",
       "      <td>43.679563</td>\n",
       "      <td>-79.377529</td>\n",
       "    </tr>\n",
       "    <tr>\n",
       "      <th>1</th>\n",
       "      <td>M4X</td>\n",
       "      <td>Downtown Toronto</td>\n",
       "      <td>Cabbagetown, St. James Town</td>\n",
       "      <td>43.667967</td>\n",
       "      <td>-79.367675</td>\n",
       "    </tr>\n",
       "    <tr>\n",
       "      <th>2</th>\n",
       "      <td>M4Y</td>\n",
       "      <td>Downtown Toronto</td>\n",
       "      <td>Church and Wellesley</td>\n",
       "      <td>43.665860</td>\n",
       "      <td>-79.383160</td>\n",
       "    </tr>\n",
       "    <tr>\n",
       "      <th>3</th>\n",
       "      <td>M5A</td>\n",
       "      <td>Downtown Toronto</td>\n",
       "      <td>Harbourfront, Regent Park</td>\n",
       "      <td>43.654260</td>\n",
       "      <td>-79.360636</td>\n",
       "    </tr>\n",
       "    <tr>\n",
       "      <th>4</th>\n",
       "      <td>M5B</td>\n",
       "      <td>Downtown Toronto</td>\n",
       "      <td>Ryerson, Garden District</td>\n",
       "      <td>43.657162</td>\n",
       "      <td>-79.378937</td>\n",
       "    </tr>\n",
       "  </tbody>\n",
       "</table>\n",
       "</div>"
      ],
      "text/plain": [
       "  PostalCode           Borough                 Neighborhood   Latitude  \\\n",
       "0        M4W  Downtown Toronto                     Rosedale  43.679563   \n",
       "1        M4X  Downtown Toronto  Cabbagetown, St. James Town  43.667967   \n",
       "2        M4Y  Downtown Toronto         Church and Wellesley  43.665860   \n",
       "3        M5A  Downtown Toronto    Harbourfront, Regent Park  43.654260   \n",
       "4        M5B  Downtown Toronto     Ryerson, Garden District  43.657162   \n",
       "\n",
       "   Longitude  \n",
       "0 -79.377529  \n",
       "1 -79.367675  \n",
       "2 -79.383160  \n",
       "3 -79.360636  \n",
       "4 -79.378937  "
      ]
     },
     "execution_count": 25,
     "metadata": {},
     "output_type": "execute_result"
    }
   ],
   "source": [
    "downtown_toronto = toronto_data[toronto_data['Borough'] == 'Downtown Toronto'].reset_index(drop=True)\n",
    "downtown_toronto.head()"
   ]
  },
  {
   "cell_type": "code",
   "execution_count": 26,
   "metadata": {},
   "outputs": [
    {
     "data": {
      "text/plain": [
       "(18, 5)"
      ]
     },
     "execution_count": 26,
     "metadata": {},
     "output_type": "execute_result"
    }
   ],
   "source": [
    "downtown_toronto.shape"
   ]
  },
  {
   "cell_type": "markdown",
   "metadata": {},
   "source": [
    "Visualize the 18 different postal codes on the map after getting the coordinated for Downtown Toronto:"
   ]
  },
  {
   "cell_type": "code",
   "execution_count": 27,
   "metadata": {},
   "outputs": [
    {
     "name": "stdout",
     "output_type": "stream",
     "text": [
      "The geograpical coordinate of Downtown Toronto are 43.6541737, -79.3808116451341.\n"
     ]
    }
   ],
   "source": [
    "address = 'Downtown Toronto, Toronto'\n",
    "\n",
    "geolocator = Nominatim(user_agent=\"ca_explorer\")\n",
    "location = geolocator.geocode(address)\n",
    "latitude = location.latitude\n",
    "longitude = location.longitude\n",
    "print('The geograpical coordinate of Downtown Toronto are {}, {}.'.format(latitude, longitude))"
   ]
  },
  {
   "cell_type": "code",
   "execution_count": 28,
   "metadata": {
    "collapsed": true
   },
   "outputs": [
    {
     "data": {
      "text/plain": [
       "<folium.vector_layers.CircleMarker at 0x1210bb400>"
      ]
     },
     "execution_count": 28,
     "metadata": {},
     "output_type": "execute_result"
    },
    {
     "data": {
      "text/plain": [
       "<folium.vector_layers.CircleMarker at 0x11f02fc18>"
      ]
     },
     "execution_count": 28,
     "metadata": {},
     "output_type": "execute_result"
    },
    {
     "data": {
      "text/plain": [
       "<folium.vector_layers.CircleMarker at 0x11f02fd68>"
      ]
     },
     "execution_count": 28,
     "metadata": {},
     "output_type": "execute_result"
    },
    {
     "data": {
      "text/plain": [
       "<folium.vector_layers.CircleMarker at 0x11f02feb8>"
      ]
     },
     "execution_count": 28,
     "metadata": {},
     "output_type": "execute_result"
    },
    {
     "data": {
      "text/plain": [
       "<folium.vector_layers.CircleMarker at 0x11f02fe48>"
      ]
     },
     "execution_count": 28,
     "metadata": {},
     "output_type": "execute_result"
    },
    {
     "data": {
      "text/plain": [
       "<folium.vector_layers.CircleMarker at 0x11f040160>"
      ]
     },
     "execution_count": 28,
     "metadata": {},
     "output_type": "execute_result"
    },
    {
     "data": {
      "text/plain": [
       "<folium.vector_layers.CircleMarker at 0x11f0402e8>"
      ]
     },
     "execution_count": 28,
     "metadata": {},
     "output_type": "execute_result"
    },
    {
     "data": {
      "text/plain": [
       "<folium.vector_layers.CircleMarker at 0x11f040438>"
      ]
     },
     "execution_count": 28,
     "metadata": {},
     "output_type": "execute_result"
    },
    {
     "data": {
      "text/plain": [
       "<folium.vector_layers.CircleMarker at 0x11f040588>"
      ]
     },
     "execution_count": 28,
     "metadata": {},
     "output_type": "execute_result"
    },
    {
     "data": {
      "text/plain": [
       "<folium.vector_layers.CircleMarker at 0x11f0406d8>"
      ]
     },
     "execution_count": 28,
     "metadata": {},
     "output_type": "execute_result"
    },
    {
     "data": {
      "text/plain": [
       "<folium.vector_layers.CircleMarker at 0x11f040828>"
      ]
     },
     "execution_count": 28,
     "metadata": {},
     "output_type": "execute_result"
    },
    {
     "data": {
      "text/plain": [
       "<folium.vector_layers.CircleMarker at 0x11f040978>"
      ]
     },
     "execution_count": 28,
     "metadata": {},
     "output_type": "execute_result"
    },
    {
     "data": {
      "text/plain": [
       "<folium.vector_layers.CircleMarker at 0x11f040ac8>"
      ]
     },
     "execution_count": 28,
     "metadata": {},
     "output_type": "execute_result"
    },
    {
     "data": {
      "text/plain": [
       "<folium.vector_layers.CircleMarker at 0x11f040c18>"
      ]
     },
     "execution_count": 28,
     "metadata": {},
     "output_type": "execute_result"
    },
    {
     "data": {
      "text/plain": [
       "<folium.vector_layers.CircleMarker at 0x11f040d68>"
      ]
     },
     "execution_count": 28,
     "metadata": {},
     "output_type": "execute_result"
    },
    {
     "data": {
      "text/plain": [
       "<folium.vector_layers.CircleMarker at 0x11f040eb8>"
      ]
     },
     "execution_count": 28,
     "metadata": {},
     "output_type": "execute_result"
    },
    {
     "data": {
      "text/plain": [
       "<folium.vector_layers.CircleMarker at 0x11f040e48>"
      ]
     },
     "execution_count": 28,
     "metadata": {},
     "output_type": "execute_result"
    },
    {
     "data": {
      "text/plain": [
       "<folium.vector_layers.CircleMarker at 0x11f049128>"
      ]
     },
     "execution_count": 28,
     "metadata": {},
     "output_type": "execute_result"
    }
   ],
   "source": [
    "# create map of Toronto using latitude and longitude values\n",
    "map_downtown = folium.Map(width='100%',height='100%',location=[latitude, longitude], zoom_start=13)\n",
    "\n",
    "# add markers to map\n",
    "for lat, lng, postal, neighborhoods in zip(downtown_toronto['Latitude'], downtown_toronto['Longitude'], downtown_toronto['PostalCode'], downtown_toronto['Neighborhood']):\n",
    "    folium.CircleMarker(\n",
    "        [lat, lng],\n",
    "        radius=5,\n",
    "        popup=folium.Popup('{}, {}'.format(postal, neighborhoods), parse_html=True),\n",
    "        color='blue',\n",
    "        fill=True,\n",
    "        fill_color='#3186cc',\n",
    "        fill_opacity=0.7,\n",
    "        parse_html=False).add_to(map_downtown)"
   ]
  },
  {
   "cell_type": "code",
   "execution_count": 29,
   "metadata": {},
   "outputs": [
    {
     "data": {
      "text/html": [
       "<div style=\"width:100%;\"><div style=\"position:relative;width:100%;height:0;padding-bottom:60%;\"><iframe src=\"data:text/html;charset=utf-8;base64,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\" style=\"position:absolute;width:100%;height:100%;left:0;top:0;border:none !important;\" allowfullscreen webkitallowfullscreen mozallowfullscreen></iframe></div></div>"
      ],
      "text/plain": [
       "<folium.folium.Map at 0x11f02f518>"
      ]
     },
     "execution_count": 29,
     "metadata": {},
     "output_type": "execute_result"
    }
   ],
   "source": [
    "map_downtown"
   ]
  },
  {
   "cell_type": "markdown",
   "metadata": {},
   "source": [
    "We can now reproduce the same analysis we did for Manhattan, New York"
   ]
  },
  {
   "cell_type": "markdown",
   "metadata": {},
   "source": [
    "## Clustering the neighborhoods of Downtown Toronto\n",
    "\n",
    "There are 18 different postal codes in Downtown Toronto, corresponding to different neighborhoods."
   ]
  },
  {
   "cell_type": "markdown",
   "metadata": {},
   "source": [
    "#### Use FourSquare API"
   ]
  },
  {
   "cell_type": "markdown",
   "metadata": {},
   "source": [
    "Gather credentials to access API (they are stored in a file). Then define the query to the API to gather the first 100 venues in a 500m radius around a specific latitude and longitude (FourSquare need the geospatial coordinates)"
   ]
  },
  {
   "cell_type": "code",
   "execution_count": 30,
   "metadata": {},
   "outputs": [],
   "source": [
    "# get credentials from file\n",
    "with open('../credentials.json') as f:\n",
    "    cred = json.load(f)\n",
    "CLIENT_ID = cred['client_id'] # your Foursquare ID\n",
    "CLIENT_SECRET = cred['client_secret'] # your Foursquare Secret\n",
    "VERSION = '20180605'\n",
    "LIMIT = 100"
   ]
  },
  {
   "cell_type": "markdown",
   "metadata": {},
   "source": [
    "For illustration purposes, let's fix the postal code to be `M5T` and later we will repeat the whole process on the full list of postal codes"
   ]
  },
  {
   "cell_type": "code",
   "execution_count": 31,
   "metadata": {},
   "outputs": [
    {
     "name": "stdout",
     "output_type": "stream",
     "text": [
      "https://api.foursquare.com/v2/venues/explore?client_id=U0CCM3AW5HNICCFKWFJYJP44CYIQCUOQB1WT52W1H2FYJKD2&client_secret=XF3EB3ZTPQOCC41N1WHH0HBP3PNFVHTFEE1E3OUCAGHGLOV0&ll=43.6532057,-79.4000493&v=20180605&&radius=500&limit=100\n"
     ]
    }
   ],
   "source": [
    "radius = 500\n",
    "latitude = downtown_toronto.query('PostalCode==\"M5T\"').Latitude.values[0]\n",
    "longitude = downtown_toronto.query('PostalCode==\"M5T\"').Longitude.values[0]\n",
    "url = 'https://api.foursquare.com/v2/venues/explore?client_id={}&client_secret={}&ll={},{}&v={}&&radius={}&limit={}'.format(CLIENT_ID, CLIENT_SECRET, latitude, longitude, VERSION, radius, LIMIT)\n",
    "print(url)"
   ]
  },
  {
   "cell_type": "code",
   "execution_count": 32,
   "metadata": {},
   "outputs": [],
   "source": [
    "results = requests.get(url).json()"
   ]
  },
  {
   "cell_type": "code",
   "execution_count": 33,
   "metadata": {},
   "outputs": [],
   "source": [
    "#results"
   ]
  },
  {
   "cell_type": "markdown",
   "metadata": {},
   "source": [
    "#### Clean up and collect different venues for a specific postal code\n",
    "\n",
    "We extract the information about the venues from the result of the API call"
   ]
  },
  {
   "cell_type": "code",
   "execution_count": 34,
   "metadata": {},
   "outputs": [],
   "source": [
    "# function that extracts the category of the venue\n",
    "def get_category_type(row):\n",
    "    try:\n",
    "        categories_list = row['categories']\n",
    "    except:\n",
    "        categories_list = row['venue.categories']\n",
    "        \n",
    "    if len(categories_list) == 0:\n",
    "        return None\n",
    "    else:\n",
    "        return categories_list[0]['name']"
   ]
  },
  {
   "cell_type": "code",
   "execution_count": 35,
   "metadata": {},
   "outputs": [
    {
     "data": {
      "text/html": [
       "<div>\n",
       "<style scoped>\n",
       "    .dataframe tbody tr th:only-of-type {\n",
       "        vertical-align: middle;\n",
       "    }\n",
       "\n",
       "    .dataframe tbody tr th {\n",
       "        vertical-align: top;\n",
       "    }\n",
       "\n",
       "    .dataframe thead th {\n",
       "        text-align: right;\n",
       "    }\n",
       "</style>\n",
       "<table border=\"1\" class=\"dataframe\">\n",
       "  <thead>\n",
       "    <tr style=\"text-align: right;\">\n",
       "      <th></th>\n",
       "      <th>name</th>\n",
       "      <th>categories</th>\n",
       "      <th>lat</th>\n",
       "      <th>lng</th>\n",
       "    </tr>\n",
       "  </thead>\n",
       "  <tbody>\n",
       "    <tr>\n",
       "      <th>0</th>\n",
       "      <td>Kid Icarus</td>\n",
       "      <td>Arts &amp; Crafts Store</td>\n",
       "      <td>43.653933</td>\n",
       "      <td>-79.401719</td>\n",
       "    </tr>\n",
       "    <tr>\n",
       "      <th>1</th>\n",
       "      <td>Seven Lives - Tacos y Mariscos</td>\n",
       "      <td>Mexican Restaurant</td>\n",
       "      <td>43.654418</td>\n",
       "      <td>-79.400545</td>\n",
       "    </tr>\n",
       "    <tr>\n",
       "      <th>2</th>\n",
       "      <td>Little Pebbles</td>\n",
       "      <td>Coffee Shop</td>\n",
       "      <td>43.654883</td>\n",
       "      <td>-79.400264</td>\n",
       "    </tr>\n",
       "    <tr>\n",
       "      <th>3</th>\n",
       "      <td>El Rey</td>\n",
       "      <td>Cocktail Bar</td>\n",
       "      <td>43.652764</td>\n",
       "      <td>-79.400048</td>\n",
       "    </tr>\n",
       "    <tr>\n",
       "      <th>4</th>\n",
       "      <td>The Moonbean Cafe</td>\n",
       "      <td>Café</td>\n",
       "      <td>43.654147</td>\n",
       "      <td>-79.400182</td>\n",
       "    </tr>\n",
       "  </tbody>\n",
       "</table>\n",
       "</div>"
      ],
      "text/plain": [
       "                             name           categories        lat        lng\n",
       "0                      Kid Icarus  Arts & Crafts Store  43.653933 -79.401719\n",
       "1  Seven Lives - Tacos y Mariscos   Mexican Restaurant  43.654418 -79.400545\n",
       "2                  Little Pebbles          Coffee Shop  43.654883 -79.400264\n",
       "3                          El Rey         Cocktail Bar  43.652764 -79.400048\n",
       "4               The Moonbean Cafe                 Café  43.654147 -79.400182"
      ]
     },
     "execution_count": 35,
     "metadata": {},
     "output_type": "execute_result"
    }
   ],
   "source": [
    "venues = results['response']['groups'][0]['items']\n",
    "    \n",
    "nearby_venues = json_normalize(venues) # flatten JSON\n",
    "\n",
    "# filter columns\n",
    "filtered_columns = ['venue.name', 'venue.categories', 'venue.location.lat', 'venue.location.lng']\n",
    "nearby_venues =nearby_venues.loc[:, filtered_columns]\n",
    "\n",
    "# filter the category for each row\n",
    "nearby_venues['venue.categories'] = nearby_venues.apply(get_category_type, axis=1)\n",
    "\n",
    "# clean columns\n",
    "nearby_venues.columns = [col.split(\".\")[-1] for col in nearby_venues.columns]\n",
    "\n",
    "nearby_venues.head()"
   ]
  },
  {
   "cell_type": "code",
   "execution_count": 36,
   "metadata": {},
   "outputs": [
    {
     "name": "stdout",
     "output_type": "stream",
     "text": [
      "100 venues were returned by Foursquare.\n"
     ]
    }
   ],
   "source": [
    "print('{} venues were returned by Foursquare.'.format(nearby_venues.shape[0]))"
   ]
  },
  {
   "cell_type": "markdown",
   "metadata": {},
   "source": [
    "We need to repeat this process for all the neighborhoods (postal codes) in Downtown Toronto. This is analogous to what we did for Manhattan, New York."
   ]
  },
  {
   "cell_type": "markdown",
   "metadata": {},
   "source": [
    "#### Define a function to gather venues from FourSquare for all neighborhoods"
   ]
  },
  {
   "cell_type": "code",
   "execution_count": 37,
   "metadata": {},
   "outputs": [],
   "source": [
    "def getNearbyVenues(names, latitudes, longitudes, radius=500):\n",
    "    \n",
    "    venues_list=[]\n",
    "    for name, lat, lng in zip(names, latitudes, longitudes):\n",
    "        print(name)\n",
    "            \n",
    "        # create the API request URL\n",
    "        url = 'https://api.foursquare.com/v2/venues/explore?&client_id={}&client_secret={}&v={}&ll={},{}&radius={}&limit={}'.format(\n",
    "            CLIENT_ID, \n",
    "            CLIENT_SECRET, \n",
    "            VERSION, \n",
    "            lat, \n",
    "            lng, \n",
    "            radius, \n",
    "            LIMIT)\n",
    "            \n",
    "        # make the GET request\n",
    "        results = requests.get(url).json()[\"response\"]['groups'][0]['items']\n",
    "        \n",
    "        # return only relevant information for each nearby venue\n",
    "        venues_list.append([(\n",
    "            name, \n",
    "            lat, \n",
    "            lng, \n",
    "            v['venue']['name'], \n",
    "            v['venue']['location']['lat'], \n",
    "            v['venue']['location']['lng'],  \n",
    "            v['venue']['categories'][0]['name']) for v in results])\n",
    "\n",
    "    nearby_venues = pd.DataFrame([item for venue_list in venues_list for item in venue_list]) # just a nested loop using list comprehension:https://docs.python.org/3.6/tutorial/datastructures.html#list-comprehensions\n",
    "    nearby_venues.columns = ['Neighborhood', \n",
    "                  'Neighborhood Latitude', \n",
    "                  'Neighborhood Longitude', \n",
    "                  'Venue', \n",
    "                  'Venue Latitude', \n",
    "                  'Venue Longitude', \n",
    "                  'Venue Category']\n",
    "    \n",
    "    return(nearby_venues)"
   ]
  },
  {
   "cell_type": "markdown",
   "metadata": {},
   "source": [
    "#### Get all venues\n",
    "\n",
    "Run the function for all the rows in the `downtown_toronto` dataframe"
   ]
  },
  {
   "cell_type": "code",
   "execution_count": 38,
   "metadata": {},
   "outputs": [
    {
     "name": "stdout",
     "output_type": "stream",
     "text": [
      "Rosedale\n",
      "Cabbagetown, St. James Town\n",
      "Church and Wellesley\n",
      "Harbourfront, Regent Park\n",
      "Ryerson, Garden District\n",
      "St. James Town\n",
      "Berczy Park\n",
      "Central Bay Street\n",
      "Adelaide, King, Richmond\n",
      "Harbourfront East, Toronto Islands, Union Station\n",
      "Design Exchange, Toronto Dominion Centre\n",
      "Commerce Court, Victoria Hotel\n",
      "Harbord, University of Toronto\n",
      "Chinatown, Grange Park, Kensington Market\n",
      "CN Tower, Bathurst Quay, Island airport, Harbourfront West, King and Spadina, Railway Lands, South Niagara\n",
      "Stn A PO Boxes 25 The Esplanade\n",
      "First Canadian Place, Underground city\n",
      "Christie\n"
     ]
    }
   ],
   "source": [
    "venues = getNearbyVenues(names=downtown_toronto['Neighborhood'],\n",
    "                        latitudes=downtown_toronto['Latitude'],\n",
    "                        longitudes=downtown_toronto['Longitude']\n",
    "                        )"
   ]
  },
  {
   "cell_type": "markdown",
   "metadata": {},
   "source": [
    "We have venues for each list of neighborhoods (one list correspond to a specific postal code)"
   ]
  },
  {
   "cell_type": "code",
   "execution_count": null,
   "metadata": {},
   "outputs": [],
   "source": [
    "venues.groupby('Neighborhood').count()"
   ]
  },
  {
   "cell_type": "code",
   "execution_count": 39,
   "metadata": {},
   "outputs": [
    {
     "name": "stdout",
     "output_type": "stream",
     "text": [
      "There are 206 uniques categories.\n"
     ]
    }
   ],
   "source": [
    "print('There are {} uniques categories.'.format(len(venues['Venue Category'].unique())))"
   ]
  },
  {
   "cell_type": "markdown",
   "metadata": {},
   "source": [
    "### Analyze the neighborhoods\n",
    "\n",
    "In order to use a clustering algorithm to segment Downtown Toronto, we need to transform the venues and venue categories into numbers. We want to use these numbers as features for each neighborhood."
   ]
  },
  {
   "cell_type": "code",
   "execution_count": 40,
   "metadata": {},
   "outputs": [
    {
     "data": {
      "text/html": [
       "<div>\n",
       "<style scoped>\n",
       "    .dataframe tbody tr th:only-of-type {\n",
       "        vertical-align: middle;\n",
       "    }\n",
       "\n",
       "    .dataframe tbody tr th {\n",
       "        vertical-align: top;\n",
       "    }\n",
       "\n",
       "    .dataframe thead th {\n",
       "        text-align: right;\n",
       "    }\n",
       "</style>\n",
       "<table border=\"1\" class=\"dataframe\">\n",
       "  <thead>\n",
       "    <tr style=\"text-align: right;\">\n",
       "      <th></th>\n",
       "      <th>Yoga Studio</th>\n",
       "      <th>Afghan Restaurant</th>\n",
       "      <th>Airport</th>\n",
       "      <th>Airport Food Court</th>\n",
       "      <th>Airport Gate</th>\n",
       "      <th>Airport Lounge</th>\n",
       "      <th>Airport Service</th>\n",
       "      <th>Airport Terminal</th>\n",
       "      <th>American Restaurant</th>\n",
       "      <th>Antique Shop</th>\n",
       "      <th>Aquarium</th>\n",
       "      <th>Art Gallery</th>\n",
       "      <th>Art Museum</th>\n",
       "      <th>Arts &amp; Crafts Store</th>\n",
       "      <th>Asian Restaurant</th>\n",
       "      <th>...</th>\n",
       "      <th>Taiwanese Restaurant</th>\n",
       "      <th>Tanning Salon</th>\n",
       "      <th>Tea Room</th>\n",
       "      <th>Thai Restaurant</th>\n",
       "      <th>Theater</th>\n",
       "      <th>Theme Restaurant</th>\n",
       "      <th>Thrift / Vintage Store</th>\n",
       "      <th>Toy / Game Store</th>\n",
       "      <th>Trail</th>\n",
       "      <th>Train Station</th>\n",
       "      <th>Vegetarian / Vegan Restaurant</th>\n",
       "      <th>Video Game Store</th>\n",
       "      <th>Vietnamese Restaurant</th>\n",
       "      <th>Wine Bar</th>\n",
       "      <th>Women's Store</th>\n",
       "    </tr>\n",
       "  </thead>\n",
       "  <tbody>\n",
       "    <tr>\n",
       "      <th>0</th>\n",
       "      <td>0</td>\n",
       "      <td>0</td>\n",
       "      <td>0</td>\n",
       "      <td>0</td>\n",
       "      <td>0</td>\n",
       "      <td>0</td>\n",
       "      <td>0</td>\n",
       "      <td>0</td>\n",
       "      <td>0</td>\n",
       "      <td>0</td>\n",
       "      <td>0</td>\n",
       "      <td>0</td>\n",
       "      <td>0</td>\n",
       "      <td>0</td>\n",
       "      <td>0</td>\n",
       "      <td>...</td>\n",
       "      <td>0</td>\n",
       "      <td>0</td>\n",
       "      <td>0</td>\n",
       "      <td>0</td>\n",
       "      <td>0</td>\n",
       "      <td>0</td>\n",
       "      <td>0</td>\n",
       "      <td>0</td>\n",
       "      <td>0</td>\n",
       "      <td>0</td>\n",
       "      <td>0</td>\n",
       "      <td>0</td>\n",
       "      <td>0</td>\n",
       "      <td>0</td>\n",
       "      <td>0</td>\n",
       "    </tr>\n",
       "    <tr>\n",
       "      <th>1</th>\n",
       "      <td>0</td>\n",
       "      <td>0</td>\n",
       "      <td>0</td>\n",
       "      <td>0</td>\n",
       "      <td>0</td>\n",
       "      <td>0</td>\n",
       "      <td>0</td>\n",
       "      <td>0</td>\n",
       "      <td>0</td>\n",
       "      <td>0</td>\n",
       "      <td>0</td>\n",
       "      <td>0</td>\n",
       "      <td>0</td>\n",
       "      <td>0</td>\n",
       "      <td>0</td>\n",
       "      <td>...</td>\n",
       "      <td>0</td>\n",
       "      <td>0</td>\n",
       "      <td>0</td>\n",
       "      <td>0</td>\n",
       "      <td>0</td>\n",
       "      <td>0</td>\n",
       "      <td>0</td>\n",
       "      <td>0</td>\n",
       "      <td>0</td>\n",
       "      <td>0</td>\n",
       "      <td>0</td>\n",
       "      <td>0</td>\n",
       "      <td>0</td>\n",
       "      <td>0</td>\n",
       "      <td>0</td>\n",
       "    </tr>\n",
       "    <tr>\n",
       "      <th>2</th>\n",
       "      <td>0</td>\n",
       "      <td>0</td>\n",
       "      <td>0</td>\n",
       "      <td>0</td>\n",
       "      <td>0</td>\n",
       "      <td>0</td>\n",
       "      <td>0</td>\n",
       "      <td>0</td>\n",
       "      <td>0</td>\n",
       "      <td>0</td>\n",
       "      <td>0</td>\n",
       "      <td>0</td>\n",
       "      <td>0</td>\n",
       "      <td>0</td>\n",
       "      <td>0</td>\n",
       "      <td>...</td>\n",
       "      <td>0</td>\n",
       "      <td>0</td>\n",
       "      <td>0</td>\n",
       "      <td>0</td>\n",
       "      <td>0</td>\n",
       "      <td>0</td>\n",
       "      <td>0</td>\n",
       "      <td>0</td>\n",
       "      <td>0</td>\n",
       "      <td>0</td>\n",
       "      <td>0</td>\n",
       "      <td>0</td>\n",
       "      <td>0</td>\n",
       "      <td>0</td>\n",
       "      <td>0</td>\n",
       "    </tr>\n",
       "    <tr>\n",
       "      <th>3</th>\n",
       "      <td>0</td>\n",
       "      <td>0</td>\n",
       "      <td>0</td>\n",
       "      <td>0</td>\n",
       "      <td>0</td>\n",
       "      <td>0</td>\n",
       "      <td>0</td>\n",
       "      <td>0</td>\n",
       "      <td>0</td>\n",
       "      <td>0</td>\n",
       "      <td>0</td>\n",
       "      <td>0</td>\n",
       "      <td>0</td>\n",
       "      <td>0</td>\n",
       "      <td>0</td>\n",
       "      <td>...</td>\n",
       "      <td>0</td>\n",
       "      <td>0</td>\n",
       "      <td>0</td>\n",
       "      <td>0</td>\n",
       "      <td>0</td>\n",
       "      <td>0</td>\n",
       "      <td>0</td>\n",
       "      <td>0</td>\n",
       "      <td>0</td>\n",
       "      <td>0</td>\n",
       "      <td>0</td>\n",
       "      <td>0</td>\n",
       "      <td>0</td>\n",
       "      <td>0</td>\n",
       "      <td>0</td>\n",
       "    </tr>\n",
       "    <tr>\n",
       "      <th>4</th>\n",
       "      <td>0</td>\n",
       "      <td>0</td>\n",
       "      <td>0</td>\n",
       "      <td>0</td>\n",
       "      <td>0</td>\n",
       "      <td>0</td>\n",
       "      <td>0</td>\n",
       "      <td>0</td>\n",
       "      <td>0</td>\n",
       "      <td>0</td>\n",
       "      <td>0</td>\n",
       "      <td>0</td>\n",
       "      <td>0</td>\n",
       "      <td>0</td>\n",
       "      <td>0</td>\n",
       "      <td>...</td>\n",
       "      <td>0</td>\n",
       "      <td>0</td>\n",
       "      <td>0</td>\n",
       "      <td>0</td>\n",
       "      <td>0</td>\n",
       "      <td>0</td>\n",
       "      <td>0</td>\n",
       "      <td>0</td>\n",
       "      <td>1</td>\n",
       "      <td>0</td>\n",
       "      <td>0</td>\n",
       "      <td>0</td>\n",
       "      <td>0</td>\n",
       "      <td>0</td>\n",
       "      <td>0</td>\n",
       "    </tr>\n",
       "  </tbody>\n",
       "</table>\n",
       "<p>5 rows × 206 columns</p>\n",
       "</div>"
      ],
      "text/plain": [
       "   Yoga Studio  Afghan Restaurant  Airport  Airport Food Court  Airport Gate  \\\n",
       "0            0                  0        0                   0             0   \n",
       "1            0                  0        0                   0             0   \n",
       "2            0                  0        0                   0             0   \n",
       "3            0                  0        0                   0             0   \n",
       "4            0                  0        0                   0             0   \n",
       "\n",
       "   Airport Lounge  Airport Service  Airport Terminal  American Restaurant  \\\n",
       "0               0                0                 0                    0   \n",
       "1               0                0                 0                    0   \n",
       "2               0                0                 0                    0   \n",
       "3               0                0                 0                    0   \n",
       "4               0                0                 0                    0   \n",
       "\n",
       "   Antique Shop  Aquarium  Art Gallery  Art Museum  Arts & Crafts Store  \\\n",
       "0             0         0            0           0                    0   \n",
       "1             0         0            0           0                    0   \n",
       "2             0         0            0           0                    0   \n",
       "3             0         0            0           0                    0   \n",
       "4             0         0            0           0                    0   \n",
       "\n",
       "   Asian Restaurant  ...  Taiwanese Restaurant  Tanning Salon  Tea Room  \\\n",
       "0                 0  ...                     0              0         0   \n",
       "1                 0  ...                     0              0         0   \n",
       "2                 0  ...                     0              0         0   \n",
       "3                 0  ...                     0              0         0   \n",
       "4                 0  ...                     0              0         0   \n",
       "\n",
       "   Thai Restaurant  Theater  Theme Restaurant  Thrift / Vintage Store  \\\n",
       "0                0        0                 0                       0   \n",
       "1                0        0                 0                       0   \n",
       "2                0        0                 0                       0   \n",
       "3                0        0                 0                       0   \n",
       "4                0        0                 0                       0   \n",
       "\n",
       "   Toy / Game Store  Trail  Train Station  Vegetarian / Vegan Restaurant  \\\n",
       "0                 0      0              0                              0   \n",
       "1                 0      0              0                              0   \n",
       "2                 0      0              0                              0   \n",
       "3                 0      0              0                              0   \n",
       "4                 0      1              0                              0   \n",
       "\n",
       "   Video Game Store  Vietnamese Restaurant  Wine Bar  Women's Store  \n",
       "0                 0                      0         0              0  \n",
       "1                 0                      0         0              0  \n",
       "2                 0                      0         0              0  \n",
       "3                 0                      0         0              0  \n",
       "4                 0                      0         0              0  \n",
       "\n",
       "[5 rows x 206 columns]"
      ]
     },
     "execution_count": 40,
     "metadata": {},
     "output_type": "execute_result"
    }
   ],
   "source": [
    "# one hot encoding of categories for clustering\n",
    "toronto_onehot = pd.get_dummies(venues[['Venue Category']], prefix=\"\", prefix_sep=\"\")\n",
    "# add neighborhood column one-hot dataframe\n",
    "toronto_onehot['Neighborhood'] = venues['Neighborhood']\n",
    "# move neighborhood column to the first column\n",
    "fixed_columns = [toronto_onehot.columns[-1]] + list(toronto_onehot.columns[:-1])\n",
    "toronto_onehot = toronto_onehot[fixed_columns]\n",
    "\n",
    "toronto_onehot.head()"
   ]
  },
  {
   "cell_type": "code",
   "execution_count": 41,
   "metadata": {},
   "outputs": [],
   "source": [
    "toronto_grouped = toronto_onehot.groupby('Neighborhood').mean().reset_index()\n",
    "# toronto_grouped"
   ]
  },
  {
   "cell_type": "code",
   "execution_count": 42,
   "metadata": {},
   "outputs": [],
   "source": [
    "def return_most_common_venues(row, num_top_venues):\n",
    "    row_categories = row.iloc[1:]\n",
    "    row_categories_sorted = row_categories.sort_values(ascending=False)\n",
    "    \n",
    "    return row_categories_sorted.index.values[0:num_top_venues]"
   ]
  },
  {
   "cell_type": "code",
   "execution_count": 53,
   "metadata": {},
   "outputs": [
    {
     "data": {
      "text/html": [
       "<div>\n",
       "<style scoped>\n",
       "    .dataframe tbody tr th:only-of-type {\n",
       "        vertical-align: middle;\n",
       "    }\n",
       "\n",
       "    .dataframe tbody tr th {\n",
       "        vertical-align: top;\n",
       "    }\n",
       "\n",
       "    .dataframe thead th {\n",
       "        text-align: right;\n",
       "    }\n",
       "</style>\n",
       "<table border=\"1\" class=\"dataframe\">\n",
       "  <thead>\n",
       "    <tr style=\"text-align: right;\">\n",
       "      <th></th>\n",
       "      <th>Neighborhood</th>\n",
       "      <th>1st Most Common Venue</th>\n",
       "      <th>2nd Most Common Venue</th>\n",
       "      <th>3rd Most Common Venue</th>\n",
       "      <th>4th Most Common Venue</th>\n",
       "      <th>5th Most Common Venue</th>\n",
       "      <th>6th Most Common Venue</th>\n",
       "      <th>7th Most Common Venue</th>\n",
       "      <th>8th Most Common Venue</th>\n",
       "      <th>9th Most Common Venue</th>\n",
       "      <th>10th Most Common Venue</th>\n",
       "    </tr>\n",
       "  </thead>\n",
       "  <tbody>\n",
       "    <tr>\n",
       "      <th>0</th>\n",
       "      <td>Adelaide, King, Richmond</td>\n",
       "      <td>Coffee Shop</td>\n",
       "      <td>Café</td>\n",
       "      <td>Bar</td>\n",
       "      <td>Steakhouse</td>\n",
       "      <td>Thai Restaurant</td>\n",
       "      <td>Breakfast Spot</td>\n",
       "      <td>Gym</td>\n",
       "      <td>Restaurant</td>\n",
       "      <td>Asian Restaurant</td>\n",
       "      <td>Hotel</td>\n",
       "    </tr>\n",
       "    <tr>\n",
       "      <th>1</th>\n",
       "      <td>Berczy Park</td>\n",
       "      <td>Coffee Shop</td>\n",
       "      <td>Cocktail Bar</td>\n",
       "      <td>Beer Bar</td>\n",
       "      <td>Bakery</td>\n",
       "      <td>Seafood Restaurant</td>\n",
       "      <td>Farmers Market</td>\n",
       "      <td>Steakhouse</td>\n",
       "      <td>Cheese Shop</td>\n",
       "      <td>Café</td>\n",
       "      <td>Park</td>\n",
       "    </tr>\n",
       "    <tr>\n",
       "      <th>2</th>\n",
       "      <td>CN Tower, Bathurst Quay, Island airport, Harbo...</td>\n",
       "      <td>Airport Service</td>\n",
       "      <td>Airport Terminal</td>\n",
       "      <td>Airport Lounge</td>\n",
       "      <td>Harbor / Marina</td>\n",
       "      <td>Coffee Shop</td>\n",
       "      <td>Plane</td>\n",
       "      <td>Sculpture Garden</td>\n",
       "      <td>Boutique</td>\n",
       "      <td>Boat or Ferry</td>\n",
       "      <td>Airport Food Court</td>\n",
       "    </tr>\n",
       "    <tr>\n",
       "      <th>3</th>\n",
       "      <td>Cabbagetown, St. James Town</td>\n",
       "      <td>Coffee Shop</td>\n",
       "      <td>Park</td>\n",
       "      <td>Restaurant</td>\n",
       "      <td>Café</td>\n",
       "      <td>Italian Restaurant</td>\n",
       "      <td>Pizza Place</td>\n",
       "      <td>Pub</td>\n",
       "      <td>Bakery</td>\n",
       "      <td>Gym / Fitness Center</td>\n",
       "      <td>American Restaurant</td>\n",
       "    </tr>\n",
       "    <tr>\n",
       "      <th>4</th>\n",
       "      <td>Central Bay Street</td>\n",
       "      <td>Coffee Shop</td>\n",
       "      <td>Italian Restaurant</td>\n",
       "      <td>Ice Cream Shop</td>\n",
       "      <td>Middle Eastern Restaurant</td>\n",
       "      <td>Sandwich Place</td>\n",
       "      <td>Burger Joint</td>\n",
       "      <td>Café</td>\n",
       "      <td>Bubble Tea Shop</td>\n",
       "      <td>Spa</td>\n",
       "      <td>Bakery</td>\n",
       "    </tr>\n",
       "  </tbody>\n",
       "</table>\n",
       "</div>"
      ],
      "text/plain": [
       "                                        Neighborhood 1st Most Common Venue  \\\n",
       "0                           Adelaide, King, Richmond           Coffee Shop   \n",
       "1                                        Berczy Park           Coffee Shop   \n",
       "2  CN Tower, Bathurst Quay, Island airport, Harbo...       Airport Service   \n",
       "3                        Cabbagetown, St. James Town           Coffee Shop   \n",
       "4                                 Central Bay Street           Coffee Shop   \n",
       "\n",
       "  2nd Most Common Venue 3rd Most Common Venue      4th Most Common Venue  \\\n",
       "0                  Café                   Bar                 Steakhouse   \n",
       "1          Cocktail Bar              Beer Bar                     Bakery   \n",
       "2      Airport Terminal        Airport Lounge            Harbor / Marina   \n",
       "3                  Park            Restaurant                       Café   \n",
       "4    Italian Restaurant        Ice Cream Shop  Middle Eastern Restaurant   \n",
       "\n",
       "  5th Most Common Venue 6th Most Common Venue 7th Most Common Venue  \\\n",
       "0       Thai Restaurant        Breakfast Spot                   Gym   \n",
       "1    Seafood Restaurant        Farmers Market            Steakhouse   \n",
       "2           Coffee Shop                 Plane      Sculpture Garden   \n",
       "3    Italian Restaurant           Pizza Place                   Pub   \n",
       "4        Sandwich Place          Burger Joint                  Café   \n",
       "\n",
       "  8th Most Common Venue 9th Most Common Venue 10th Most Common Venue  \n",
       "0            Restaurant      Asian Restaurant                  Hotel  \n",
       "1           Cheese Shop                  Café                   Park  \n",
       "2              Boutique         Boat or Ferry     Airport Food Court  \n",
       "3                Bakery  Gym / Fitness Center    American Restaurant  \n",
       "4       Bubble Tea Shop                   Spa                 Bakery  "
      ]
     },
     "execution_count": 53,
     "metadata": {},
     "output_type": "execute_result"
    }
   ],
   "source": [
    "num_top_venues = 10\n",
    "\n",
    "indicators = ['st', 'nd', 'rd']\n",
    "\n",
    "# create columns according to number of top venues\n",
    "columns = ['Neighborhood']\n",
    "for ind in np.arange(num_top_venues):\n",
    "    try:\n",
    "        columns.append('{}{} Most Common Venue'.format(ind+1, indicators[ind]))\n",
    "    except:\n",
    "        columns.append('{}th Most Common Venue'.format(ind+1))\n",
    "\n",
    "# create a new dataframe\n",
    "neighborhoods_venues_sorted = pd.DataFrame(columns=columns)\n",
    "neighborhoods_venues_sorted['Neighborhood'] = toronto_grouped['Neighborhood']\n",
    "\n",
    "for ind in np.arange(toronto_grouped.shape[0]):\n",
    "    neighborhoods_venues_sorted.iloc[ind, 1:] = return_most_common_venues(toronto_grouped.iloc[ind, :], num_top_venues)\n",
    "\n",
    "neighborhoods_venues_sorted.head()"
   ]
  },
  {
   "cell_type": "markdown",
   "metadata": {},
   "source": [
    "### Cluster the neighborhoods\n",
    "\n",
    "Run the k-means clustering algorithm with 3 clusters"
   ]
  },
  {
   "cell_type": "code",
   "execution_count": 50,
   "metadata": {},
   "outputs": [
    {
     "data": {
      "text/plain": [
       "array([0, 0, 1, 0, 0, 0, 0, 0, 0, 0, 0, 0, 0, 0, 2, 0, 0, 0], dtype=int32)"
      ]
     },
     "execution_count": 50,
     "metadata": {},
     "output_type": "execute_result"
    }
   ],
   "source": [
    "# set number of clusters\n",
    "kclusters = 3\n",
    "\n",
    "# remove the Neighborhood name from the dataframe, and leave only the frequencies: 260 of them per 18 neighborhoods.\n",
    "toronto_grouped_clustering = toronto_grouped.drop('Neighborhood', 1) # drop column, axis=1\n",
    "\n",
    "# run k-means clustering\n",
    "kmeans = KMeans(n_clusters=kclusters, random_state=0).fit(toronto_grouped_clustering)\n",
    "\n",
    "# check cluster labels generated for each row in the dataframe\n",
    "kmeans.labels_ "
   ]
  },
  {
   "cell_type": "markdown",
   "metadata": {},
   "source": [
    "Changing the number of clusters does not seem to matter much. Most of the neighborhoods fall in the same cluster because they are pretty similar (they are all in Downtown Toronto after all) but two of them, the third and the 15th. \n",
    "They are very specific neighborhood: for example one has an airport and the other a park."
   ]
  },
  {
   "cell_type": "code",
   "execution_count": 51,
   "metadata": {},
   "outputs": [
    {
     "data": {
      "text/html": [
       "<div>\n",
       "<style scoped>\n",
       "    .dataframe tbody tr th:only-of-type {\n",
       "        vertical-align: middle;\n",
       "    }\n",
       "\n",
       "    .dataframe tbody tr th {\n",
       "        vertical-align: top;\n",
       "    }\n",
       "\n",
       "    .dataframe thead th {\n",
       "        text-align: right;\n",
       "    }\n",
       "</style>\n",
       "<table border=\"1\" class=\"dataframe\">\n",
       "  <thead>\n",
       "    <tr style=\"text-align: right;\">\n",
       "      <th></th>\n",
       "      <th>Cluster Labels</th>\n",
       "      <th>Neighborhood</th>\n",
       "      <th>1st Most Common Venue</th>\n",
       "      <th>2nd Most Common Venue</th>\n",
       "      <th>3rd Most Common Venue</th>\n",
       "      <th>4th Most Common Venue</th>\n",
       "      <th>5th Most Common Venue</th>\n",
       "      <th>6th Most Common Venue</th>\n",
       "      <th>7th Most Common Venue</th>\n",
       "      <th>8th Most Common Venue</th>\n",
       "      <th>9th Most Common Venue</th>\n",
       "      <th>10th Most Common Venue</th>\n",
       "    </tr>\n",
       "  </thead>\n",
       "  <tbody>\n",
       "    <tr>\n",
       "      <th>2</th>\n",
       "      <td>2</td>\n",
       "      <td>CN Tower, Bathurst Quay, Island airport, Harbo...</td>\n",
       "      <td>Airport Service</td>\n",
       "      <td>Airport Terminal</td>\n",
       "      <td>Airport Lounge</td>\n",
       "      <td>Harbor / Marina</td>\n",
       "      <td>Coffee Shop</td>\n",
       "      <td>Plane</td>\n",
       "      <td>Sculpture Garden</td>\n",
       "      <td>Boutique</td>\n",
       "      <td>Boat or Ferry</td>\n",
       "      <td>Airport Food Court</td>\n",
       "    </tr>\n",
       "    <tr>\n",
       "      <th>14</th>\n",
       "      <td>1</td>\n",
       "      <td>Rosedale</td>\n",
       "      <td>Park</td>\n",
       "      <td>Playground</td>\n",
       "      <td>Trail</td>\n",
       "      <td>Building</td>\n",
       "      <td>Women's Store</td>\n",
       "      <td>Dim Sum Restaurant</td>\n",
       "      <td>Electronics Store</td>\n",
       "      <td>Eastern European Restaurant</td>\n",
       "      <td>Dumpling Restaurant</td>\n",
       "      <td>Donut Shop</td>\n",
       "    </tr>\n",
       "  </tbody>\n",
       "</table>\n",
       "</div>"
      ],
      "text/plain": [
       "    Cluster Labels                                       Neighborhood  \\\n",
       "2                2  CN Tower, Bathurst Quay, Island airport, Harbo...   \n",
       "14               1                                           Rosedale   \n",
       "\n",
       "   1st Most Common Venue 2nd Most Common Venue 3rd Most Common Venue  \\\n",
       "2        Airport Service      Airport Terminal        Airport Lounge   \n",
       "14                  Park            Playground                 Trail   \n",
       "\n",
       "   4th Most Common Venue 5th Most Common Venue 6th Most Common Venue  \\\n",
       "2        Harbor / Marina           Coffee Shop                 Plane   \n",
       "14              Building         Women's Store    Dim Sum Restaurant   \n",
       "\n",
       "   7th Most Common Venue        8th Most Common Venue 9th Most Common Venue  \\\n",
       "2       Sculpture Garden                     Boutique         Boat or Ferry   \n",
       "14     Electronics Store  Eastern European Restaurant   Dumpling Restaurant   \n",
       "\n",
       "   10th Most Common Venue  \n",
       "2      Airport Food Court  \n",
       "14             Donut Shop  "
      ]
     },
     "execution_count": 51,
     "metadata": {},
     "output_type": "execute_result"
    }
   ],
   "source": [
    "neighborhoods_venues_sorted.iloc[[2,14]]"
   ]
  },
  {
   "cell_type": "markdown",
   "metadata": {},
   "source": [
    "### Map the different clusters\n",
    "\n",
    "Create a dataframe with the cluster label for each neighborhood and map them with different colored markers"
   ]
  },
  {
   "cell_type": "code",
   "execution_count": 54,
   "metadata": {},
   "outputs": [
    {
     "data": {
      "text/html": [
       "<div>\n",
       "<style scoped>\n",
       "    .dataframe tbody tr th:only-of-type {\n",
       "        vertical-align: middle;\n",
       "    }\n",
       "\n",
       "    .dataframe tbody tr th {\n",
       "        vertical-align: top;\n",
       "    }\n",
       "\n",
       "    .dataframe thead th {\n",
       "        text-align: right;\n",
       "    }\n",
       "</style>\n",
       "<table border=\"1\" class=\"dataframe\">\n",
       "  <thead>\n",
       "    <tr style=\"text-align: right;\">\n",
       "      <th></th>\n",
       "      <th>PostalCode</th>\n",
       "      <th>Borough</th>\n",
       "      <th>Neighborhood</th>\n",
       "      <th>Latitude</th>\n",
       "      <th>Longitude</th>\n",
       "      <th>Cluster Labels</th>\n",
       "      <th>1st Most Common Venue</th>\n",
       "      <th>2nd Most Common Venue</th>\n",
       "      <th>3rd Most Common Venue</th>\n",
       "      <th>4th Most Common Venue</th>\n",
       "      <th>5th Most Common Venue</th>\n",
       "      <th>6th Most Common Venue</th>\n",
       "      <th>7th Most Common Venue</th>\n",
       "      <th>8th Most Common Venue</th>\n",
       "      <th>9th Most Common Venue</th>\n",
       "      <th>10th Most Common Venue</th>\n",
       "    </tr>\n",
       "  </thead>\n",
       "  <tbody>\n",
       "    <tr>\n",
       "      <th>0</th>\n",
       "      <td>M4W</td>\n",
       "      <td>Downtown Toronto</td>\n",
       "      <td>Rosedale</td>\n",
       "      <td>43.679563</td>\n",
       "      <td>-79.377529</td>\n",
       "      <td>2</td>\n",
       "      <td>Park</td>\n",
       "      <td>Playground</td>\n",
       "      <td>Trail</td>\n",
       "      <td>Building</td>\n",
       "      <td>Women's Store</td>\n",
       "      <td>Dim Sum Restaurant</td>\n",
       "      <td>Electronics Store</td>\n",
       "      <td>Eastern European Restaurant</td>\n",
       "      <td>Dumpling Restaurant</td>\n",
       "      <td>Donut Shop</td>\n",
       "    </tr>\n",
       "    <tr>\n",
       "      <th>1</th>\n",
       "      <td>M4X</td>\n",
       "      <td>Downtown Toronto</td>\n",
       "      <td>Cabbagetown, St. James Town</td>\n",
       "      <td>43.667967</td>\n",
       "      <td>-79.367675</td>\n",
       "      <td>0</td>\n",
       "      <td>Coffee Shop</td>\n",
       "      <td>Park</td>\n",
       "      <td>Restaurant</td>\n",
       "      <td>Café</td>\n",
       "      <td>Italian Restaurant</td>\n",
       "      <td>Pizza Place</td>\n",
       "      <td>Pub</td>\n",
       "      <td>Bakery</td>\n",
       "      <td>Gym / Fitness Center</td>\n",
       "      <td>American Restaurant</td>\n",
       "    </tr>\n",
       "    <tr>\n",
       "      <th>2</th>\n",
       "      <td>M4Y</td>\n",
       "      <td>Downtown Toronto</td>\n",
       "      <td>Church and Wellesley</td>\n",
       "      <td>43.665860</td>\n",
       "      <td>-79.383160</td>\n",
       "      <td>0</td>\n",
       "      <td>Coffee Shop</td>\n",
       "      <td>Japanese Restaurant</td>\n",
       "      <td>Sushi Restaurant</td>\n",
       "      <td>Restaurant</td>\n",
       "      <td>Gay Bar</td>\n",
       "      <td>Pub</td>\n",
       "      <td>Men's Store</td>\n",
       "      <td>Gastropub</td>\n",
       "      <td>Hotel</td>\n",
       "      <td>Fast Food Restaurant</td>\n",
       "    </tr>\n",
       "    <tr>\n",
       "      <th>3</th>\n",
       "      <td>M5A</td>\n",
       "      <td>Downtown Toronto</td>\n",
       "      <td>Harbourfront, Regent Park</td>\n",
       "      <td>43.654260</td>\n",
       "      <td>-79.360636</td>\n",
       "      <td>0</td>\n",
       "      <td>Coffee Shop</td>\n",
       "      <td>Café</td>\n",
       "      <td>Pub</td>\n",
       "      <td>Bakery</td>\n",
       "      <td>Park</td>\n",
       "      <td>Theater</td>\n",
       "      <td>Breakfast Spot</td>\n",
       "      <td>Mexican Restaurant</td>\n",
       "      <td>Restaurant</td>\n",
       "      <td>Spa</td>\n",
       "    </tr>\n",
       "    <tr>\n",
       "      <th>4</th>\n",
       "      <td>M5B</td>\n",
       "      <td>Downtown Toronto</td>\n",
       "      <td>Ryerson, Garden District</td>\n",
       "      <td>43.657162</td>\n",
       "      <td>-79.378937</td>\n",
       "      <td>0</td>\n",
       "      <td>Coffee Shop</td>\n",
       "      <td>Clothing Store</td>\n",
       "      <td>Cosmetics Shop</td>\n",
       "      <td>Middle Eastern Restaurant</td>\n",
       "      <td>Café</td>\n",
       "      <td>Ramen Restaurant</td>\n",
       "      <td>Diner</td>\n",
       "      <td>Italian Restaurant</td>\n",
       "      <td>Ice Cream Shop</td>\n",
       "      <td>Bubble Tea Shop</td>\n",
       "    </tr>\n",
       "  </tbody>\n",
       "</table>\n",
       "</div>"
      ],
      "text/plain": [
       "  PostalCode           Borough                 Neighborhood   Latitude  \\\n",
       "0        M4W  Downtown Toronto                     Rosedale  43.679563   \n",
       "1        M4X  Downtown Toronto  Cabbagetown, St. James Town  43.667967   \n",
       "2        M4Y  Downtown Toronto         Church and Wellesley  43.665860   \n",
       "3        M5A  Downtown Toronto    Harbourfront, Regent Park  43.654260   \n",
       "4        M5B  Downtown Toronto     Ryerson, Garden District  43.657162   \n",
       "\n",
       "   Longitude  Cluster Labels 1st Most Common Venue 2nd Most Common Venue  \\\n",
       "0 -79.377529               2                  Park            Playground   \n",
       "1 -79.367675               0           Coffee Shop                  Park   \n",
       "2 -79.383160               0           Coffee Shop   Japanese Restaurant   \n",
       "3 -79.360636               0           Coffee Shop                  Café   \n",
       "4 -79.378937               0           Coffee Shop        Clothing Store   \n",
       "\n",
       "  3rd Most Common Venue      4th Most Common Venue 5th Most Common Venue  \\\n",
       "0                 Trail                   Building         Women's Store   \n",
       "1            Restaurant                       Café    Italian Restaurant   \n",
       "2      Sushi Restaurant                 Restaurant               Gay Bar   \n",
       "3                   Pub                     Bakery                  Park   \n",
       "4        Cosmetics Shop  Middle Eastern Restaurant                  Café   \n",
       "\n",
       "  6th Most Common Venue 7th Most Common Venue        8th Most Common Venue  \\\n",
       "0    Dim Sum Restaurant     Electronics Store  Eastern European Restaurant   \n",
       "1           Pizza Place                   Pub                       Bakery   \n",
       "2                   Pub           Men's Store                    Gastropub   \n",
       "3               Theater        Breakfast Spot           Mexican Restaurant   \n",
       "4      Ramen Restaurant                 Diner           Italian Restaurant   \n",
       "\n",
       "  9th Most Common Venue 10th Most Common Venue  \n",
       "0   Dumpling Restaurant             Donut Shop  \n",
       "1  Gym / Fitness Center    American Restaurant  \n",
       "2                 Hotel   Fast Food Restaurant  \n",
       "3            Restaurant                    Spa  \n",
       "4        Ice Cream Shop        Bubble Tea Shop  "
      ]
     },
     "execution_count": 54,
     "metadata": {},
     "output_type": "execute_result"
    }
   ],
   "source": [
    "# add clustering labels to the sorted venue dataframe\n",
    "neighborhoods_venues_sorted.insert(0, 'Cluster Labels', kmeans.labels_) # insert as first column.\n",
    "\n",
    "downtown_merged = downtown_toronto\n",
    "\n",
    "# merge neighborhoods_venues_sorted with manhattan_data to add latitude/longitude for each neighborhood\n",
    "downtown_merged = downtown_merged.join(neighborhoods_venues_sorted.set_index('Neighborhood'), on='Neighborhood')\n",
    "\n",
    "downtown_merged.head()"
   ]
  },
  {
   "cell_type": "markdown",
   "metadata": {},
   "source": [
    "Latitude and Longitude are the ones of Downtown Toronto"
   ]
  },
  {
   "cell_type": "code",
   "execution_count": 47,
   "metadata": {},
   "outputs": [
    {
     "name": "stdout",
     "output_type": "stream",
     "text": [
      "The geograpical coordinate of Downtown Toronto are 43.6541737, -79.3808116451341.\n"
     ]
    }
   ],
   "source": [
    "address = 'Downtown Toronto, Toronto'\n",
    "\n",
    "geolocator = Nominatim(user_agent=\"ca_explorer\")\n",
    "location = geolocator.geocode(address)\n",
    "latitude = location.latitude\n",
    "longitude = location.longitude\n",
    "print('The geograpical coordinate of Downtown Toronto are {}, {}.'.format(latitude, longitude))"
   ]
  },
  {
   "cell_type": "code",
   "execution_count": 55,
   "metadata": {
    "collapsed": true
   },
   "outputs": [
    {
     "data": {
      "text/plain": [
       "<folium.vector_layers.CircleMarker at 0x1211cee10>"
      ]
     },
     "execution_count": 55,
     "metadata": {},
     "output_type": "execute_result"
    },
    {
     "data": {
      "text/plain": [
       "<folium.vector_layers.CircleMarker at 0x1211cedd8>"
      ]
     },
     "execution_count": 55,
     "metadata": {},
     "output_type": "execute_result"
    },
    {
     "data": {
      "text/plain": [
       "<folium.vector_layers.CircleMarker at 0x1211ceb38>"
      ]
     },
     "execution_count": 55,
     "metadata": {},
     "output_type": "execute_result"
    },
    {
     "data": {
      "text/plain": [
       "<folium.vector_layers.CircleMarker at 0x1211ce2b0>"
      ]
     },
     "execution_count": 55,
     "metadata": {},
     "output_type": "execute_result"
    },
    {
     "data": {
      "text/plain": [
       "<folium.vector_layers.CircleMarker at 0x121203908>"
      ]
     },
     "execution_count": 55,
     "metadata": {},
     "output_type": "execute_result"
    },
    {
     "data": {
      "text/plain": [
       "<folium.vector_layers.CircleMarker at 0x1211ce6d8>"
      ]
     },
     "execution_count": 55,
     "metadata": {},
     "output_type": "execute_result"
    },
    {
     "data": {
      "text/plain": [
       "<folium.vector_layers.CircleMarker at 0x1211a9048>"
      ]
     },
     "execution_count": 55,
     "metadata": {},
     "output_type": "execute_result"
    },
    {
     "data": {
      "text/plain": [
       "<folium.vector_layers.CircleMarker at 0x1211a9da0>"
      ]
     },
     "execution_count": 55,
     "metadata": {},
     "output_type": "execute_result"
    },
    {
     "data": {
      "text/plain": [
       "<folium.vector_layers.CircleMarker at 0x1211a9828>"
      ]
     },
     "execution_count": 55,
     "metadata": {},
     "output_type": "execute_result"
    },
    {
     "data": {
      "text/plain": [
       "<folium.vector_layers.CircleMarker at 0x1211a9898>"
      ]
     },
     "execution_count": 55,
     "metadata": {},
     "output_type": "execute_result"
    },
    {
     "data": {
      "text/plain": [
       "<folium.vector_layers.CircleMarker at 0x1211a90b8>"
      ]
     },
     "execution_count": 55,
     "metadata": {},
     "output_type": "execute_result"
    },
    {
     "data": {
      "text/plain": [
       "<folium.vector_layers.CircleMarker at 0x1211a92b0>"
      ]
     },
     "execution_count": 55,
     "metadata": {},
     "output_type": "execute_result"
    },
    {
     "data": {
      "text/plain": [
       "<folium.vector_layers.CircleMarker at 0x1211a9f98>"
      ]
     },
     "execution_count": 55,
     "metadata": {},
     "output_type": "execute_result"
    },
    {
     "data": {
      "text/plain": [
       "<folium.vector_layers.CircleMarker at 0x1211a9a58>"
      ]
     },
     "execution_count": 55,
     "metadata": {},
     "output_type": "execute_result"
    },
    {
     "data": {
      "text/plain": [
       "<folium.vector_layers.CircleMarker at 0x1211a9eb8>"
      ]
     },
     "execution_count": 55,
     "metadata": {},
     "output_type": "execute_result"
    },
    {
     "data": {
      "text/plain": [
       "<folium.vector_layers.CircleMarker at 0x1211a9c50>"
      ]
     },
     "execution_count": 55,
     "metadata": {},
     "output_type": "execute_result"
    },
    {
     "data": {
      "text/plain": [
       "<folium.vector_layers.CircleMarker at 0x1211a9588>"
      ]
     },
     "execution_count": 55,
     "metadata": {},
     "output_type": "execute_result"
    },
    {
     "data": {
      "text/plain": [
       "<folium.vector_layers.CircleMarker at 0x121242940>"
      ]
     },
     "execution_count": 55,
     "metadata": {},
     "output_type": "execute_result"
    }
   ],
   "source": [
    "import matplotlib.cm as cm\n",
    "import matplotlib.colors as colors\n",
    "# create map\n",
    "map_clusters = folium.Map(location=[latitude, longitude], zoom_start=13)\n",
    "\n",
    "# set color scheme for the clusters\n",
    "colors_array = cm.rainbow(np.linspace(0, 1, kclusters))  # array of colors from the rainbow colormap\n",
    "rainbow = [colors.rgb2hex(i) for i in colors_array]  # get HEX code for each color\n",
    "\n",
    "# add markers to the map\n",
    "for lat, lon, poi, cluster in zip(downtown_merged['Latitude'], downtown_merged['Longitude'], downtown_merged['Neighborhood'], downtown_merged['Cluster Labels']):\n",
    "    label = folium.Popup(str(poi) + ' Cluster ' + str(cluster), parse_html=True)\n",
    "    folium.CircleMarker(\n",
    "        [lat, lon],\n",
    "        radius=5,\n",
    "        popup=label,\n",
    "        color=rainbow[cluster-1],\n",
    "        fill=True,\n",
    "        fill_color=rainbow[cluster-1],\n",
    "        fill_opacity=0.7).add_to(map_clusters)"
   ]
  },
  {
   "cell_type": "code",
   "execution_count": 56,
   "metadata": {},
   "outputs": [
    {
     "data": {
      "text/html": [
       "<div style=\"width:100%;\"><div style=\"position:relative;width:100%;height:0;padding-bottom:60%;\"><iframe src=\"data:text/html;charset=utf-8;base64,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\" style=\"position:absolute;width:100%;height:100%;left:0;top:0;border:none !important;\" allowfullscreen webkitallowfullscreen mozallowfullscreen></iframe></div></div>"
      ],
      "text/plain": [
       "<folium.folium.Map at 0x1210fc198>"
      ]
     },
     "execution_count": 56,
     "metadata": {},
     "output_type": "execute_result"
    }
   ],
   "source": [
    "map_clusters"
   ]
  },
  {
   "cell_type": "code",
   "execution_count": null,
   "metadata": {},
   "outputs": [],
   "source": []
  }
 ],
 "metadata": {
  "kernelspec": {
   "display_name": "Python [conda env:coursera] *",
   "language": "python",
   "name": "conda-env-coursera-py"
  },
  "language_info": {
   "codemirror_mode": {
    "name": "ipython",
    "version": 3
   },
   "file_extension": ".py",
   "mimetype": "text/x-python",
   "name": "python",
   "nbconvert_exporter": "python",
   "pygments_lexer": "ipython3",
   "version": "3.6.7"
  }
 },
 "nbformat": 4,
 "nbformat_minor": 2
}
