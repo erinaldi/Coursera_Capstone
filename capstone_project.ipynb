{
 "cells": [
  {
   "cell_type": "markdown",
   "metadata": {},
   "source": [
    "# Capstone Project\n",
    "\n",
    "This notebook will be used and updated throughout the project."
   ]
  },
  {
   "cell_type": "code",
   "execution_count": 15,
   "metadata": {},
   "outputs": [
    {
     "name": "stdout",
     "output_type": "stream",
     "text": [
      "0.25.0\n"
     ]
    }
   ],
   "source": [
    "import pandas as pd\n",
    "print(pd.__version__)"
   ]
  },
  {
   "cell_type": "code",
   "execution_count": 16,
   "metadata": {},
   "outputs": [
    {
     "name": "stdout",
     "output_type": "stream",
     "text": [
      "1.17.0\n"
     ]
    }
   ],
   "source": [
    "import numpy as np\n",
    "print(np.__version__)"
   ]
  },
  {
   "cell_type": "markdown",
   "metadata": {},
   "source": [
    "### First assignement\n",
    "\n",
    "Print the following the statement: Hello Capstone Project Course!"
   ]
  },
  {
   "cell_type": "code",
   "execution_count": 3,
   "metadata": {},
   "outputs": [
    {
     "name": "stdout",
     "output_type": "stream",
     "text": [
      "Print the following the statement: Hello Capstone Project Course!\n"
     ]
    }
   ],
   "source": [
    "print(\"Print the following the statement: Hello Capstone Project Course!\")"
   ]
  },
  {
   "cell_type": "markdown",
   "metadata": {},
   "source": [
    "## Test `FourSquare` RESTful API"
   ]
  },
  {
   "cell_type": "code",
   "execution_count": 1,
   "metadata": {},
   "outputs": [],
   "source": [
    "import json, requests"
   ]
  },
  {
   "cell_type": "markdown",
   "metadata": {},
   "source": [
    "The Foursquare API can be accessed with a `uniform resource identifier` which is formed by\n",
    "- an API base url `'https://api.foursquare.com/v2/'`\n",
    "- a group for your request `[venues, users, tips]`\n",
    "- an endpoint `[search, explore, trending]` or specific location unique ID to get more info\n",
    "- your client ID and password and a API version\n",
    "- a particular category e.g. `coffee`\n",
    "- a particular location\n",
    "\n",
    "Learn about `endpoints` of the API call: [Foursquare API](https://developer.foursquare.com/docs/api/endpoints)"
   ]
  },
  {
   "cell_type": "code",
   "execution_count": 7,
   "metadata": {},
   "outputs": [],
   "source": [
    "url_api = 'https://api.foursquare.com/v2/'\n",
    "\n",
    "# search for venues\n",
    "group = 'venues/'\n",
    "# we want to search for a specific query\n",
    "endpoint = 'search'\n",
    "# uniform resource identifier URI \n",
    "url = url_api + group + endpoint"
   ]
  },
  {
   "cell_type": "code",
   "execution_count": 8,
   "metadata": {},
   "outputs": [],
   "source": [
    "params = dict(\n",
    "  v='20180323',\n",
    "  ll='40.7243,-74.0018',\n",
    "  query='coffee',\n",
    "  limit=1\n",
    ")"
   ]
  },
  {
   "cell_type": "markdown",
   "metadata": {},
   "source": [
    "Save credential on external file"
   ]
  },
  {
   "cell_type": "code",
   "execution_count": 11,
   "metadata": {},
   "outputs": [],
   "source": [
    "with open('../credentials.json') as f:\n",
    "    cred = json.load(f)\n",
    "#print(cred)"
   ]
  },
  {
   "cell_type": "markdown",
   "metadata": {},
   "source": [
    "Add them to our dictionary for parameters to the API call"
   ]
  },
  {
   "cell_type": "code",
   "execution_count": 12,
   "metadata": {},
   "outputs": [
    {
     "name": "stdout",
     "output_type": "stream",
     "text": [
      "{'v': '20180323', 'll': '40.7243,-74.0018', 'query': 'coffee', 'limit': 1, 'client_id': 'U0CCM3AW5HNICCFKWFJYJP44CYIQCUOQB1WT52W1H2FYJKD2', 'client_secret': 'XF3EB3ZTPQOCC41N1WHH0HBP3PNFVHTFEE1E3OUCAGHGLOV0'}\n"
     ]
    }
   ],
   "source": [
    "for k in cred.keys():\n",
    "    params[k] = cred[k]\n",
    "print(params)"
   ]
  },
  {
   "cell_type": "markdown",
   "metadata": {},
   "source": [
    "Use `GET` to ask the API for data and save the result in `data`"
   ]
  },
  {
   "cell_type": "code",
   "execution_count": 13,
   "metadata": {},
   "outputs": [],
   "source": [
    "resp = requests.get(url=url, params=params)\n",
    "data = json.loads(resp.text)"
   ]
  },
  {
   "cell_type": "code",
   "execution_count": 27,
   "metadata": {},
   "outputs": [
    {
     "data": {
      "text/plain": [
       "{'venues': [{'id': '5abfe6bbc0af5705a1bcacdb',\n",
       "   'name': 'COFFEE & CREAM by Oddfellows',\n",
       "   'contact': {},\n",
       "   'location': {'address': '55 E Houston St',\n",
       "    'crossStreet': 'at Mott St',\n",
       "    'lat': 40.724707325648026,\n",
       "    'lng': -73.99428101796822,\n",
       "    'labeledLatLngs': [{'label': 'display',\n",
       "      'lat': 40.724707325648026,\n",
       "      'lng': -73.99428101796822}],\n",
       "    'distance': 635,\n",
       "    'postalCode': '10012',\n",
       "    'cc': 'US',\n",
       "    'city': 'New York',\n",
       "    'state': 'NY',\n",
       "    'country': 'United States',\n",
       "    'formattedAddress': ['55 E Houston St (at Mott St)',\n",
       "     'New York, NY 10012',\n",
       "     'United States']},\n",
       "   'categories': [{'id': '4bf58dd8d48988d1c9941735',\n",
       "     'name': 'Ice Cream Shop',\n",
       "     'pluralName': 'Ice Cream Shops',\n",
       "     'shortName': 'Ice Cream',\n",
       "     'icon': {'prefix': 'https://ss3.4sqi.net/img/categories_v2/food/icecream_',\n",
       "      'suffix': '.png'},\n",
       "     'primary': True}],\n",
       "   'verified': False,\n",
       "   'stats': {'tipCount': 0,\n",
       "    'usersCount': 0,\n",
       "    'checkinsCount': 0,\n",
       "    'visitsCount': 0},\n",
       "   'beenHere': {'count': 0,\n",
       "    'lastCheckinExpiredAt': 0,\n",
       "    'marked': False,\n",
       "    'unconfirmedCount': 0},\n",
       "   'hereNow': {'count': 0, 'summary': 'Nobody here', 'groups': []},\n",
       "   'referralId': 'v-1565066020',\n",
       "   'venueChains': [],\n",
       "   'hasPerk': False}]}"
      ]
     },
     "execution_count": 27,
     "metadata": {},
     "output_type": "execute_result"
    }
   ],
   "source": [
    "data['response']"
   ]
  },
  {
   "cell_type": "code",
   "execution_count": 22,
   "metadata": {},
   "outputs": [
    {
     "data": {
      "text/plain": [
       "'{\"meta\":{\"code\":200,\"requestId\":\"5d49032486bc490039286453\"},\"response\":{\"venues\":[{\"id\":\"5abfe6bbc0af5705a1bcacdb\",\"name\":\"COFFEE & CREAM by Oddfellows\",\"contact\":{},\"location\":{\"address\":\"55 E Houston St\",\"crossStreet\":\"at Mott St\",\"lat\":40.724707325648026,\"lng\":-73.99428101796822,\"labeledLatLngs\":[{\"label\":\"display\",\"lat\":40.724707325648026,\"lng\":-73.99428101796822}],\"distance\":635,\"postalCode\":\"10012\",\"cc\":\"US\",\"city\":\"New York\",\"state\":\"NY\",\"country\":\"United States\",\"formattedAddress\":[\"55 E Houston St (at Mott St)\",\"New York, NY 10012\",\"United States\"]},\"categories\":[{\"id\":\"4bf58dd8d48988d1c9941735\",\"name\":\"Ice Cream Shop\",\"pluralName\":\"Ice Cream Shops\",\"shortName\":\"Ice Cream\",\"icon\":{\"prefix\":\"https:\\\\/\\\\/ss3.4sqi.net\\\\/img\\\\/categories_v2\\\\/food\\\\/icecream_\",\"suffix\":\".png\"},\"primary\":true}],\"verified\":false,\"stats\":{\"tipCount\":0,\"usersCount\":0,\"checkinsCount\":0,\"visitsCount\":0},\"beenHere\":{\"count\":0,\"lastCheckinExpiredAt\":0,\"marked\":false,\"unconfirmedCount\":0},\"hereNow\":{\"count\":0,\"summary\":\"Nobody here\",\"groups\":[]},\"referralId\":\"v-1565066020\",\"venueChains\":[],\"hasPerk\":false}]}}'"
      ]
     },
     "execution_count": 22,
     "metadata": {},
     "output_type": "execute_result"
    }
   ],
   "source": [
    "resp.text"
   ]
  },
  {
   "cell_type": "code",
   "execution_count": 25,
   "metadata": {},
   "outputs": [
    {
     "data": {
      "text/html": [
       "<div>\n",
       "<style scoped>\n",
       "    .dataframe tbody tr th:only-of-type {\n",
       "        vertical-align: middle;\n",
       "    }\n",
       "\n",
       "    .dataframe tbody tr th {\n",
       "        vertical-align: top;\n",
       "    }\n",
       "\n",
       "    .dataframe thead th {\n",
       "        text-align: right;\n",
       "    }\n",
       "</style>\n",
       "<table border=\"1\" class=\"dataframe\">\n",
       "  <thead>\n",
       "    <tr style=\"text-align: right;\">\n",
       "      <th></th>\n",
       "      <th>meta.code</th>\n",
       "      <th>meta.requestId</th>\n",
       "      <th>response.venues</th>\n",
       "    </tr>\n",
       "  </thead>\n",
       "  <tbody>\n",
       "    <tr>\n",
       "      <th>0</th>\n",
       "      <td>200</td>\n",
       "      <td>5d49032486bc490039286453</td>\n",
       "      <td>[{'id': '5abfe6bbc0af5705a1bcacdb', 'name': 'C...</td>\n",
       "    </tr>\n",
       "  </tbody>\n",
       "</table>\n",
       "</div>"
      ],
      "text/plain": [
       "   meta.code            meta.requestId  \\\n",
       "0        200  5d49032486bc490039286453   \n",
       "\n",
       "                                     response.venues  \n",
       "0  [{'id': '5abfe6bbc0af5705a1bcacdb', 'name': 'C...  "
      ]
     },
     "execution_count": 25,
     "metadata": {},
     "output_type": "execute_result"
    }
   ],
   "source": [
    "pd.io.json.json_normalize(data)"
   ]
  },
  {
   "cell_type": "code",
   "execution_count": 26,
   "metadata": {},
   "outputs": [],
   "source": [
    "pd.io.json.json_normalize??"
   ]
  },
  {
   "cell_type": "code",
   "execution_count": null,
   "metadata": {},
   "outputs": [],
   "source": []
  }
 ],
 "metadata": {
  "kernelspec": {
   "display_name": "Python [conda env:coursera] *",
   "language": "python",
   "name": "conda-env-coursera-py"
  },
  "language_info": {
   "codemirror_mode": {
    "name": "ipython",
    "version": 3
   },
   "file_extension": ".py",
   "mimetype": "text/x-python",
   "name": "python",
   "nbconvert_exporter": "python",
   "pygments_lexer": "ipython3",
   "version": "3.6.7"
  }
 },
 "nbformat": 4,
 "nbformat_minor": 2
}
